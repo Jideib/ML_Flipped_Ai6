{
 "cells": [
  {
   "cell_type": "code",
   "execution_count": 1,
   "id": "49ad83cd",
   "metadata": {},
   "outputs": [],
   "source": [
    "import requests\n",
    "from bs4 import BeautifulSoup\n",
    "from selenium import webdriver\n",
    "from selenium.webdriver.firefox.service import Service\n",
    "from webdriver_manager.firefox import GeckoDriverManager\n",
    "import csv"
   ]
  },
  {
   "cell_type": "code",
   "execution_count": 2,
   "id": "f28e8caa",
   "metadata": {},
   "outputs": [
    {
     "name": "stdout",
     "output_type": "stream",
     "text": [
      "Successfully fetched the HTML content.\n"
     ]
    }
   ],
   "source": [
    "url = \"https://dubawa.org\"\n",
    "response = requests.get(url)\n",
    "\n",
    "if response.status_code == 200:\n",
    "    html_content = response.text\n",
    "    print(\"Successfully fetched the HTML content.\")\n",
    "else:\n",
    "    print(f\"Failed to fetch the page. Status code: {response.status_code}\")\n"
   ]
  },
  {
   "cell_type": "code",
   "execution_count": null,
   "id": "e212fc92",
   "metadata": {},
   "outputs": [
    {
     "name": "stdout",
     "output_type": "stream",
     "text": [
      "Liberians march against drug abuse\n",
      "Misleading! Olive B. Academy not first all-girls boarding school in Sierra Leone\n",
      "Old video was recirculated to depict Hushpuppi attending Davido’s wedding\n",
      "Viral video showing a list of Nigerians on death row in Saudi Arabia, not recent\n",
      "Was Tubman of Liberia the only African President to meet the Queen of England?\n",
      "EU, UK revoke Sierra Leonean nationals’ visa privileges over extradition row, false!\n",
      "Javis didn’t visit her former school in Edo State; photos from Sierra Leone\n",
      "False! No reduction of infant mortality rates to 60% in Sierra Leone\n",
      "President Barrow’s comment on “selling The Gambia” taken out of context\n",
      "Òdodo ọ̀rọ̀! Àìrórunsùn le fa ikú àìt’ọ́jọ́\n",
      "$3bn electric car sales by Ibrahim Traore, false\n",
      "INVESTIGATION: Commissioned by Buhari, Nasarawa’s…\n",
      "Inside Nigeria’s Amazon Clinic, run…\n",
      "Togo protest: Old, unrelated videos…\n",
      "Kaduna farmers wait endlessly as…\n",
      "ANALYSIS: X users’ deployment of…\n",
      "False! Chimamanda Adichie didn’t make scathing remark on Ibom Air Incident\n",
      "$3bn electric car sales by Ibrahim Traore, false\n",
      "Pictures depicting Ronaldo purchasing shares in Manchester United, AI-generated\n",
      "Inside Nigeria’s internet scam lingo used to promote scams, wins celebrated openly on X\n",
      "False! Eating garri, fufu, other fermented foods does not amount to taking alcohol\n",
      "Did release of Cameroon’s Lagdo Dam cause Nigeria’s recent flooding?\n",
      "Les recettes budgétaires au Sénégal ont-elles connu une hausse de plus de 1750 milliards en un an ?\n",
      "Nicolas Jackson : une photo de 2018 présentée comme datant de 2013\n",
      "Candidature du Chef de l’Etat Alassane Ouattara à la présidentielle de 2025, une vidéo de 2020 entretient le flou\n",
      "Le Président bissau-guinéen, Umaro Sissoco Embaló, a-t-il évoqué une possible intervention dans le conflit Israël-Iran ?\n",
      "Élections du 23 novembre en Guinée Bissau : comprendre le système électoral\n",
      "Prétendu prêt de la Côte d’Ivoire au Sénégal : une désinformation autour d’une opération financière classique\n",
      "Liberians march against drug abuse\n",
      "Facebook user deletes claim Nigerian Army issued ID cards to terrorists after DUBAWA’s report\n",
      "Facebook bloggers delete AI footage after DUBAWA’s fact check\n",
      "Sierra Leone’s Chief Minister retracts false claim on Bio’s election as ECOWAS Chairperson\n",
      "GlobalFact12: IFCN calls for reinvention, resilience in global fight against disinformation\n",
      "INVESTIGATION: Despite ban in several countries, ‘harmful’ weight gain product, Apetamin, sold indiscriminately in Nigeria\n",
      "Is septrin banned in Nigeria as claimed in viral audio?\n",
      "Is egg consumption associated with increased heart disease, as posited by X user?\n",
      "Is cold water responsible for jaundice in babies during pregnancy?\n",
      "INVESTIGATION: Commissioned by Buhari, Nasarawa’s ₦15 billion airport joins Nigeria’s white elephant projects\n",
      "Beware of scams, FG not  giving N185,000 family support to Nigerians\n",
      "Did release of Cameroon’s Lagdo Dam cause Nigeria’s recent flooding?\n",
      "President Barrow’s comment on “selling The Gambia” taken out of context\n",
      "Lungi Bridge: Is President Bio’s promise manifesto commitment or political aspiration?\n",
      "Did Mali leader sign law to keep him in office indefinitely?\n"
     ]
    }
   ],
   "source": [
    "soup = BeautifulSoup(html_content, \"html.parser\")\n",
    "\n",
    "# Extract article titles\n",
    "article_titles = soup.find_all(\"h2\", class_=\"post-title\")  # Adjust the class as needed\n",
    "for title in article_titles:\n",
    "    print(title.get_text(strip=True))\n",
    "\n",
    "\n",
    "factcheck_links = soup.find_all(\"href\", )"
   ]
  },
  {
   "cell_type": "code",
   "execution_count": 9,
   "id": "564ffd7a",
   "metadata": {},
   "outputs": [],
   "source": [
    "# Example: Save article titles to a CSV file\n",
    "with open(\"dubawa_articles.csv\", \"w\", newline=\"\", encoding=\"utf-8\") as file:\n",
    "    writer = csv.writer(file)\n",
    "    writer.writerow([\"Article Title\"])\n",
    "    for title in article_titles:\n",
    "        writer.writerow([title.get_text(strip=True)])\n"
   ]
  }
 ],
 "metadata": {
  "kernelspec": {
   "display_name": "Python 3",
   "language": "python",
   "name": "python3"
  },
  "language_info": {
   "codemirror_mode": {
    "name": "ipython",
    "version": 3
   },
   "file_extension": ".py",
   "mimetype": "text/x-python",
   "name": "python",
   "nbconvert_exporter": "python",
   "pygments_lexer": "ipython3",
   "version": "3.13.5"
  }
 },
 "nbformat": 4,
 "nbformat_minor": 5
}

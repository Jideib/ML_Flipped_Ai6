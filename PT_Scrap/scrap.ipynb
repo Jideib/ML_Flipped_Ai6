{
 "cells": [
  {
   "cell_type": "code",
   "execution_count": 1,
   "id": "49ad83cd",
   "metadata": {},
   "outputs": [],
   "source": [
    "import requests\n",
    "from bs4 import BeautifulSoup\n",
    "from selenium import webdriver\n",
    "from selenium.webdriver.firefox.service import Service\n",
    "from webdriver_manager.firefox import GeckoDriverManager\n",
    "import csv"
   ]
  },
  {
   "cell_type": "code",
   "execution_count": 2,
   "id": "f28e8caa",
   "metadata": {},
   "outputs": [
    {
     "name": "stdout",
     "output_type": "stream",
     "text": [
      "Successfully fetched the HTML content.\n"
     ]
    }
   ],
   "source": [
    "url = \"https://dubawa.org\"\n",
    "response = requests.get(url)\n",
    "\n",
    "if response.status_code == 200:\n",
    "    html_content = response.text\n",
    "    print(\"Successfully fetched the HTML content.\")\n",
    "else:\n",
    "    print(f\"Failed to fetch the page. Status code: {response.status_code}\")\n"
   ]
  },
  {
   "cell_type": "code",
   "execution_count": 3,
   "id": "e212fc92",
   "metadata": {},
   "outputs": [],
   "source": [
    "soup = BeautifulSoup(html_content, \"html.parser\")\n",
    "\n",
    "# Example: Extract article titles\n",
    "article_titles = soup.find_all(\"h2\", class_=\"entry-title\")  # Adjust the class as needed\n",
    "for title in article_titles:\n",
    "    print(title.get_text(strip=True))\n"
   ]
  },
  {
   "cell_type": "code",
   "execution_count": 4,
   "id": "1d25af01",
   "metadata": {},
   "outputs": [],
   "source": [
    "# Initialize Firefox WebDriver\n",
    "driver = webdriver.Firefox(service=Service(GeckoDriverManager().install()))\n",
    "\n",
    "# Navigate to the website\n",
    "driver.get(\"https://dubawa.org\")\n",
    "\n",
    "# Extract data after the page loads\n",
    "html_content = driver.page_source\n",
    "soup = BeautifulSoup(html_content, \"html.parser\")\n",
    "\n",
    "# Example: Extract article titles\n",
    "article_titles = soup.find_all(\"h2\", class_=\"entry-title\")  # Adjust the class as needed\n",
    "for title in article_titles:\n",
    "    print(title.get_text(strip=True))\n",
    "\n",
    "# Close the browser\n",
    "driver.quit()"
   ]
  },
  {
   "cell_type": "code",
   "execution_count": 5,
   "id": "564ffd7a",
   "metadata": {},
   "outputs": [],
   "source": [
    "# Example: Save article titles to a CSV file\n",
    "with open(\"dubawa_articles.csv\", \"w\", newline=\"\", encoding=\"utf-8\") as file:\n",
    "    writer = csv.writer(file)\n",
    "    writer.writerow([\"Article Title\"])\n",
    "    for title in article_titles:\n",
    "        writer.writerow([title.get_text(strip=True)])\n"
   ]
  },
  {
   "cell_type": "code",
   "execution_count": 6,
   "id": "3ff79f27",
   "metadata": {},
   "outputs": [],
   "source": [
    "headers = {\n",
    "    \"User-Agent\": \"Mozilla/5.0 (Windows NT 10.0; Win64; x64) AppleWebKit/537.36 (KHTML, like Gecko) Chrome/91.0.4472.124 Safari/537.36\"\n",
    "}\n",
    "response = requests.get(url, headers=headers)\n"
   ]
  },
  {
   "cell_type": "code",
   "execution_count": 7,
   "id": "aa3fc0e4",
   "metadata": {},
   "outputs": [],
   "source": [
    "for page in range(1, 6):  # Scrape 5 pages\n",
    "    url = f\"https://dubawa.org/category/fact-check/{page}/\"\n",
    "    response = requests.get(url, headers=headers)\n",
    "    soup = BeautifulSoup(response.text, \"html.parser\")\n",
    "    article_titles = soup.find_all(\"h2\", class_=\"entry-title\")\n",
    "    for title in article_titles:\n",
    "        print(title.get_text(strip=True))\n"
   ]
  }
 ],
 "metadata": {
  "kernelspec": {
   "display_name": "Python 3",
   "language": "python",
   "name": "python3"
  },
  "language_info": {
   "codemirror_mode": {
    "name": "ipython",
    "version": 3
   },
   "file_extension": ".py",
   "mimetype": "text/x-python",
   "name": "python",
   "nbconvert_exporter": "python",
   "pygments_lexer": "ipython3",
   "version": "3.13.5"
  }
 },
 "nbformat": 4,
 "nbformat_minor": 5
}
